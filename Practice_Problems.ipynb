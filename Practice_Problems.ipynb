{
  "nbformat": 4,
  "nbformat_minor": 0,
  "metadata": {
    "colab": {
      "provenance": []
    },
    "kernelspec": {
      "name": "python3",
      "display_name": "Python 3"
    },
    "language_info": {
      "name": "python"
    }
  },
  "cells": [
    {
      "cell_type": "markdown",
      "source": [
        "**Practice Problem 1**\n",
        "\n"
      ],
      "metadata": {
        "id": "1oi3w0lfdq8y"
      }
    },
    {
      "cell_type": "markdown",
      "source": [
        "1. Write a Python program which accepts the radius of a circle from the user\n",
        "and compute the area"
      ],
      "metadata": {
        "id": "OGI3RC5L96I1"
      }
    },
    {
      "cell_type": "code",
      "execution_count": 1,
      "metadata": {
        "id": "MOvuMKU89vgX"
      },
      "outputs": [],
      "source": [
        "import math"
      ]
    },
    {
      "cell_type": "code",
      "source": [
        "radius = float(input(\"Enter the radius\"))\n",
        "area = math.pi*radius**2\n",
        "print(\"Area of circle is\" ,area)"
      ],
      "metadata": {
        "colab": {
          "base_uri": "https://localhost:8080/"
        },
        "id": "SKDtkoMF-aWy",
        "outputId": "1159bc9d-0b94-4332-b65c-9882c5d88431"
      },
      "execution_count": 4,
      "outputs": [
        {
          "output_type": "stream",
          "name": "stdout",
          "text": [
            "Enter the radius3.5\n",
            "Area of circle is 38.48451000647496\n"
          ]
        }
      ]
    },
    {
      "cell_type": "markdown",
      "source": [
        "2.Write a Python Program to accept the details of a student like name, roll\n",
        "number and mark and display it."
      ],
      "metadata": {
        "id": "_6iWPuEl-u9c"
      }
    },
    {
      "cell_type": "code",
      "source": [
        "name = str(input('Enter the Name'))\n",
        "r_n = int(input('Enter the Roll no.'))\n",
        "mark = float(input('Enter the mark'))\n",
        "print('\\n Details')\n",
        "print('Name:', name)\n",
        "print('Roll No.:', r_n)\n",
        "print('Mark;', mark)"
      ],
      "metadata": {
        "colab": {
          "base_uri": "https://localhost:8080/"
        },
        "id": "7TOhlZvN-lzl",
        "outputId": "70e24f56-e7c6-42d1-a2e8-5da25f545b87"
      },
      "execution_count": 18,
      "outputs": [
        {
          "output_type": "stream",
          "name": "stdout",
          "text": [
            "Enter the NameAnu\n",
            "Enter the Roll no.28\n",
            "Enter the mark6.7\n",
            "\n",
            " Details\n",
            "Name: Anu\n",
            "Roll No.: 28\n",
            "Mark; 6.7\n"
          ]
        }
      ]
    },
    {
      "cell_type": "markdown",
      "source": [
        "3.Write a Python program to get the largest number from a list"
      ],
      "metadata": {
        "id": "poEfJ3e-Cyyk"
      }
    },
    {
      "cell_type": "code",
      "source": [
        "l1=(12, 3, 47, 10)"
      ],
      "metadata": {
        "id": "5baK4g4H_O37"
      },
      "execution_count": 19,
      "outputs": []
    },
    {
      "cell_type": "code",
      "source": [
        "lrg_n = max(l1)\n",
        "print(lrg_n)\n"
      ],
      "metadata": {
        "colab": {
          "base_uri": "https://localhost:8080/"
        },
        "id": "lDkX5Ze6DdaI",
        "outputId": "d2eab198-e008-4073-a769-c74957a516ed"
      },
      "execution_count": 22,
      "outputs": [
        {
          "output_type": "stream",
          "name": "stdout",
          "text": [
            "47\n"
          ]
        }
      ]
    },
    {
      "cell_type": "markdown",
      "source": [
        "4. Given a range of first 10 numbers, write a Python program to iterate from\n",
        "start number to the end number and print the sum of the current number\n",
        "and previous number."
      ],
      "metadata": {
        "id": "XoHXgyV_EFg2"
      }
    },
    {
      "cell_type": "code",
      "source": [
        "for i in range(1,11):\n",
        "   c_no = i\n",
        "   p_no = i-1\n",
        "   sum = c_no + p_no\n",
        "   print(\"Current Number\", c_no ,\"Previous Number\", p_no ,\"Sum:\", sum )\n"
      ],
      "metadata": {
        "colab": {
          "base_uri": "https://localhost:8080/"
        },
        "id": "GahBAaErDhUW",
        "outputId": "3d81d8a6-4c8e-4003-f81b-5ae94ff3389e"
      },
      "execution_count": 30,
      "outputs": [
        {
          "output_type": "stream",
          "name": "stdout",
          "text": [
            "Current Number 1 Previous Number 0 Sum: 1\n",
            "Current Number 2 Previous Number 1 Sum: 3\n",
            "Current Number 3 Previous Number 2 Sum: 5\n",
            "Current Number 4 Previous Number 3 Sum: 7\n",
            "Current Number 5 Previous Number 4 Sum: 9\n",
            "Current Number 6 Previous Number 5 Sum: 11\n",
            "Current Number 7 Previous Number 6 Sum: 13\n",
            "Current Number 8 Previous Number 7 Sum: 15\n",
            "Current Number 9 Previous Number 8 Sum: 17\n",
            "Current Number 10 Previous Number 9 Sum: 19\n"
          ]
        }
      ]
    },
    {
      "cell_type": "markdown",
      "source": [
        "5. Write a Python program to print only those numbers which are divisible\n",
        "of 5."
      ],
      "metadata": {
        "id": "5f92AksuGLfR"
      }
    },
    {
      "cell_type": "code",
      "source": [
        "f=(10,20,33,46,55)\n",
        "for num in f:\n",
        "    if num % 5 == 0:\n",
        "        print(num)"
      ],
      "metadata": {
        "colab": {
          "base_uri": "https://localhost:8080/"
        },
        "id": "LaknICDdGzLH",
        "outputId": "d3a3d2b3-389c-4eab-e871-adbb37ce697b"
      },
      "execution_count": 37,
      "outputs": [
        {
          "output_type": "stream",
          "name": "stdout",
          "text": [
            "10\n",
            "20\n",
            "55\n"
          ]
        }
      ]
    },
    {
      "cell_type": "markdown",
      "source": [
        "6.Write a Python program to check whether a number is prime or no"
      ],
      "metadata": {
        "id": "rNX8YupJIOm1"
      }
    },
    {
      "cell_type": "code",
      "source": [
        "\n",
        "num = int(input('Enter a positive number'))\n",
        "for test in range(2,num//2+1):\n",
        "  if num%test == 0:\n",
        "    print('not prime')\n",
        "    break\n",
        "else:\n",
        "  print(num,'is a Prime number')"
      ],
      "metadata": {
        "colab": {
          "base_uri": "https://localhost:8080/"
        },
        "id": "g6l2NgPAICx4",
        "outputId": "6a55ba2b-5cc1-4433-e970-2bca13ebaba1"
      },
      "execution_count": 49,
      "outputs": [
        {
          "output_type": "stream",
          "name": "stdout",
          "text": [
            "Enter a positive number37\n",
            "37 is a Prime number\n"
          ]
        }
      ]
    },
    {
      "cell_type": "markdown",
      "source": [
        "7. Write a Python program to reverse a list using for loop."
      ],
      "metadata": {
        "id": "TVE0jkyHJ5c_"
      }
    },
    {
      "cell_type": "code",
      "source": [
        "r1=(10,40,30,70 )\n",
        "revisedlist = r1[::-1]\n",
        "print(revisedlist)"
      ],
      "metadata": {
        "colab": {
          "base_uri": "https://localhost:8080/"
        },
        "id": "ATM74gl2Ii4v",
        "outputId": "c94eb818-a35c-4a43-b9cc-cdeba77bc6df"
      },
      "execution_count": 1,
      "outputs": [
        {
          "output_type": "stream",
          "name": "stdout",
          "text": [
            "(70, 30, 40, 10)\n"
          ]
        }
      ]
    },
    {
      "cell_type": "markdown",
      "source": [
        "8. Write a Python program to print the following pattern.\n",
        "*\n",
        "**\n",
        "***\n",
        "****\n",
        "\n",
        "\n",
        "\n",
        "\n",
        "\n",
        "\n",
        "\n"
      ],
      "metadata": {
        "id": "PvKkhsGebA-W"
      }
    },
    {
      "cell_type": "code",
      "source": [
        "for i in range(1,5):\n",
        "  print('*'*i)"
      ],
      "metadata": {
        "colab": {
          "base_uri": "https://localhost:8080/"
        },
        "id": "eNSl4UrZa5US",
        "outputId": "e0a5c973-bb1d-4262-f81e-a8fd6025199c"
      },
      "execution_count": 2,
      "outputs": [
        {
          "output_type": "stream",
          "name": "stdout",
          "text": [
            "*\n",
            "**\n",
            "***\n",
            "****\n"
          ]
        }
      ]
    },
    {
      "cell_type": "markdown",
      "source": [
        "9. Write a Python program to find the maximum of three numbers\n"
      ],
      "metadata": {
        "id": "FhBkbU1pbzyK"
      }
    },
    {
      "cell_type": "code",
      "source": [
        "n1 = int(input(\"Enter 1st no.\"))\n",
        "n2 = int(input(\"Enter 2nd no.\"))\n",
        "n3 = int(input(\"Enter 3rd no.\"))\n",
        "num2 = max(n1,n2,n3)\n",
        "print(num2)"
      ],
      "metadata": {
        "colab": {
          "base_uri": "https://localhost:8080/"
        },
        "id": "CU0jGGUmbsY4",
        "outputId": "8f6160b4-3aed-4de5-f90e-9c53247babc6"
      },
      "execution_count": 5,
      "outputs": [
        {
          "output_type": "stream",
          "name": "stdout",
          "text": [
            "Enter 1st no.37\n",
            "Enter 2nd no.12\n",
            "Enter 3rd no.7\n",
            "37\n"
          ]
        }
      ]
    },
    {
      "cell_type": "markdown",
      "source": [
        "10. Write a Python program to construct the following pattern, using a\n",
        "nested for loop."
      ],
      "metadata": {
        "id": "k00wPNu8c0nt"
      }
    },
    {
      "cell_type": "code",
      "source": [
        "for i in range(1,5):\n",
        "  print('*'*i)\n",
        "  print('')\n",
        "for j in range(5,0,-1):\n",
        "  print('*'*j)\n",
        "  print('')"
      ],
      "metadata": {
        "colab": {
          "base_uri": "https://localhost:8080/"
        },
        "id": "LhNsw-ckeJ6R",
        "outputId": "4e4586ee-144b-475e-bdc1-192654852ace"
      },
      "execution_count": 23,
      "outputs": [
        {
          "output_type": "stream",
          "name": "stdout",
          "text": [
            "*\n",
            "\n",
            "**\n",
            "\n",
            "***\n",
            "\n",
            "****\n",
            "\n",
            "*****\n",
            "\n",
            "****\n",
            "\n",
            "***\n",
            "\n",
            "**\n",
            "\n",
            "*\n",
            "\n"
          ]
        }
      ]
    },
    {
      "cell_type": "markdown",
      "source": [
        " ***Practice Problem 2***"
      ],
      "metadata": {
        "id": "exhLC1cigv_3"
      }
    },
    {
      "cell_type": "markdown",
      "source": [
        "1. Write a Python program to accept a string value from the user and display\n",
        "the count of each character in that string"
      ],
      "metadata": {
        "id": "GsGm8nspiNJE"
      }
    },
    {
      "cell_type": "code",
      "source": [],
      "metadata": {
        "id": "7o9bGT7jgCIC"
      },
      "execution_count": null,
      "outputs": []
    },
    {
      "cell_type": "markdown",
      "source": [
        "2. . Write a Python function to find the maximum of three numbers"
      ],
      "metadata": {
        "id": "Q4QTpwQjiTHs"
      }
    },
    {
      "cell_type": "code",
      "source": [
        "m1=int(input('Enter a number'))\n",
        "m2=int(input('Enter a number'))\n",
        "m3=int(input('Enter a number'))\n",
        "sum = max(m1,m2,m3)\n",
        "print(sum)"
      ],
      "metadata": {
        "colab": {
          "base_uri": "https://localhost:8080/"
        },
        "id": "qL3PejcmiQcW",
        "outputId": "47a1ee29-2475-4d74-9e07-e4db2d2ce425"
      },
      "execution_count": 25,
      "outputs": [
        {
          "output_type": "stream",
          "name": "stdout",
          "text": [
            "Enter a number34\n",
            "Enter a number12\n",
            "Enter a number7\n",
            "34\n"
          ]
        }
      ]
    },
    {
      "cell_type": "markdown",
      "source": [
        "3. Write a Python function called exponent(base,exp) that returns an\n",
        "integer value of base raises to the power of exp"
      ],
      "metadata": {
        "id": "ls8dMPqyjCz3"
      }
    },
    {
      "cell_type": "code",
      "source": [
        "b1 = int(input('Enter the base:'))\n",
        "b2 = int(input('Enter the exponent:'))\n",
        "print(b1**b2)"
      ],
      "metadata": {
        "colab": {
          "base_uri": "https://localhost:8080/"
        },
        "id": "R7nmB9BuivWr",
        "outputId": "d7e92062-5a6c-4f79-8047-4b6212f422e2"
      },
      "execution_count": 27,
      "outputs": [
        {
          "output_type": "stream",
          "name": "stdout",
          "text": [
            "Enter the base:2\n",
            "Enter the exponent:3\n",
            "8\n"
          ]
        }
      ]
    },
    {
      "cell_type": "markdown",
      "source": [
        "4. Write a Python function that takes a positive integer and returns the sum\n",
        "of the cube of all the positive integers smaller than the specified number\n"
      ],
      "metadata": {
        "id": "xRPjZxebjwKC"
      }
    },
    {
      "cell_type": "code",
      "source": [
        "def sum_c(n):\n",
        "  r_s=0\n",
        "  for i in range(1,n):\n",
        "     r_s += i**3\n",
        "  return r_s\n",
        "n = int(input('Enter a no:'))\n",
        "result = sum_c(n)\n",
        "print(result)\n"
      ],
      "metadata": {
        "colab": {
          "base_uri": "https://localhost:8080/"
        },
        "id": "Gfo8VskkkQyB",
        "outputId": "a8744161-8c26-4ecd-8f15-d89d05dfa87b"
      },
      "execution_count": 32,
      "outputs": [
        {
          "output_type": "stream",
          "name": "stdout",
          "text": [
            "Enter a no:4\n",
            "36\n"
          ]
        }
      ]
    },
    {
      "cell_type": "markdown",
      "source": [
        "5. Write a Python program which iterates from 1 to 10. For multiples of 2,\n",
        "print “Fizz” instead of the number and for the multiples of 5, print “Buzz”.\n",
        "For numbers which are multiples of both 2 and 5, print “FizzBuzz”."
      ],
      "metadata": {
        "id": "FQi8N-wmnG-h"
      }
    },
    {
      "cell_type": "code",
      "source": [
        "for i in range(1,11):\n",
        "  if i%2 == 0 and i%5 == 0:\n",
        "    print(\"FizzBuzz\")\n",
        "  elif i%2 == 0:\n",
        "    print(\"Fizz\")\n",
        "  elif i%5 == 0:\n",
        "    print(\"Buzz\")\n",
        "  else:\n",
        "    print(i)\n",
        ""
      ],
      "metadata": {
        "colab": {
          "base_uri": "https://localhost:8080/"
        },
        "id": "xPinZCv3m8LD",
        "outputId": "7f87d9f7-c531-4597-99ec-f387be6bd082"
      },
      "execution_count": 39,
      "outputs": [
        {
          "output_type": "stream",
          "name": "stdout",
          "text": [
            "1\n",
            "Fizz\n",
            "3\n",
            "Fizz\n",
            "Buzz\n",
            "Fizz\n",
            "7\n",
            "Fizz\n",
            "9\n",
            "FizzBuzz\n"
          ]
        }
      ]
    },
    {
      "cell_type": "markdown",
      "source": [
        "6.Write a Python program to find the most frequent item in a list of\n",
        "numbers."
      ],
      "metadata": {
        "id": "iaMVEdy7p0mA"
      }
    },
    {
      "cell_type": "code",
      "source": [
        "l1 = [2, 3, 4, 2, 5, 2 ]\n",
        "def most_f(l1):\n",
        "  counter = 0\n",
        "  num = l1[0]\n",
        "  for i in l1:\n",
        "    cur_f = l1.count(i)\n",
        "    if(cur_f>counter):\n",
        "      counter = cur_f\n",
        "      num=i\n",
        "  return num\n",
        "print(most_f(l1))"
      ],
      "metadata": {
        "colab": {
          "base_uri": "https://localhost:8080/"
        },
        "id": "YeVtRbC1o_3t",
        "outputId": "788bf6f2-233e-4b38-f59e-aea48e783af9"
      },
      "execution_count": 43,
      "outputs": [
        {
          "output_type": "stream",
          "name": "stdout",
          "text": [
            "2\n"
          ]
        }
      ]
    },
    {
      "cell_type": "markdown",
      "source": [
        "7.Write a Python program to find the sum of squares of the numbers in a\n",
        "list."
      ],
      "metadata": {
        "id": "mUmrdFF4r5xQ"
      }
    },
    {
      "cell_type": "code",
      "source": [
        "m_list=[2,1,3,1 ]\n",
        "sum_lt = 0\n",
        "for i in m_list:\n",
        "  sum_lt+=i*i\n",
        "print(sum_lt)"
      ],
      "metadata": {
        "colab": {
          "base_uri": "https://localhost:8080/"
        },
        "id": "L7NDBCIdtIIc",
        "outputId": "aec03200-25ba-49e8-8189-e156ffe35cb9"
      },
      "execution_count": 54,
      "outputs": [
        {
          "output_type": "stream",
          "name": "stdout",
          "text": [
            "15\n"
          ]
        }
      ]
    },
    {
      "cell_type": "markdown",
      "source": [
        "8. Write a Python program using for loop that will iterate from 1 to 15. For\n",
        "each iteration, check if the current number is odd or even, and display the\n",
        "message to the screen as odd or even."
      ],
      "metadata": {
        "id": "W3Vz8fP7vYnL"
      }
    },
    {
      "cell_type": "code",
      "source": [
        "for i in range(1,16):\n",
        "  if i%2 == 0:\n",
        "    print(i,\"-even\")\n",
        "  else:\n",
        "    print(i,\"-odd\")"
      ],
      "metadata": {
        "colab": {
          "base_uri": "https://localhost:8080/"
        },
        "id": "mrOHaO4DvAOl",
        "outputId": "f4a50778-aba8-4e98-ba89-108f51d4eca9"
      },
      "execution_count": 59,
      "outputs": [
        {
          "output_type": "stream",
          "name": "stdout",
          "text": [
            "1 -odd\n",
            "2 -even\n",
            "3 -odd\n",
            "4 -even\n",
            "5 -odd\n",
            "6 -even\n",
            "7 -odd\n",
            "8 -even\n",
            "9 -odd\n",
            "10 -even\n",
            "11 -odd\n",
            "12 -even\n",
            "13 -odd\n",
            "14 -even\n",
            "15 -odd\n"
          ]
        }
      ]
    },
    {
      "cell_type": "markdown",
      "source": [
        "9. Write a Python program to convert temperatures to and from Celsius\n",
        "Fahrenheit. [Formula: c/5=f-32/9 where c=temperature in Celsius and f=\n",
        "temperature in Fahrenheit.]"
      ],
      "metadata": {
        "id": "WkdytZHowZTs"
      }
    },
    {
      "cell_type": "code",
      "source": [
        "k= float(input(\"Enter the temparature\"))\n",
        "n=((k-32)/9)*5\n",
        "print('Temperature in Fahrenheit=',k)\n",
        "print('Temperature in Celsius =',n)"
      ],
      "metadata": {
        "colab": {
          "base_uri": "https://localhost:8080/"
        },
        "id": "YI17ci6tv4X0",
        "outputId": "500112ba-1b36-4050-c685-f9375d0b4423"
      },
      "execution_count": 65,
      "outputs": [
        {
          "output_type": "stream",
          "name": "stdout",
          "text": [
            "Enter the temparature41\n",
            "Temperature in Fahrenheit= 41.0\n",
            "Temperature in Celsius = 5.0\n"
          ]
        }
      ]
    },
    {
      "cell_type": "markdown",
      "source": [
        "10. Write a Python function to calculate the factorial of a number (a\n",
        "nonnegative integer). The function accepts the number as an argument."
      ],
      "metadata": {
        "id": "hKTFrMmZzR6F"
      }
    },
    {
      "cell_type": "code",
      "source": [
        "def factorial(n):\n",
        "  if n == 0:\n",
        "    return 1\n",
        "  else:\n",
        "    return n*factorial(n-1)\n",
        "n=int(input('Enter a number :'))\n",
        "print(factorial(n))"
      ],
      "metadata": {
        "colab": {
          "base_uri": "https://localhost:8080/"
        },
        "id": "-Kwz8jdiyfAl",
        "outputId": "817932c3-ea0e-4831-f7cc-0916670fe22f"
      },
      "execution_count": 66,
      "outputs": [
        {
          "output_type": "stream",
          "name": "stdout",
          "text": [
            "Enter a number :3\n",
            "6\n"
          ]
        }
      ]
    },
    {
      "cell_type": "code",
      "source": [],
      "metadata": {
        "id": "tld9h1oz05ct"
      },
      "execution_count": null,
      "outputs": []
    }
  ]
}